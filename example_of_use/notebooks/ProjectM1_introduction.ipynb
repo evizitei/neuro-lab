{
 "cells": [
  {
   "cell_type": "markdown",
   "metadata": {},
   "source": [
    "# Project M1 - Cell Type Classification using Neural Network\n",
    "### The objective of this project is to classify two cell types (spiny/aspiny) according to their electrophysiology features using both logistic regression and neural network.\n",
    "#### The data set is downloaded from the __[Allen Institute data base](http://alleninstitute.github.io/AllenSDK/_static/examples/nb/cell_types.html#Computing-Electrophysiology-Features)__ and is already saved in the file \"ElecPhyFeatures.csv\".\n",
    "#### Two examples for classifying Iris data set using logistic regression and neural network are given in notebooks \"logistic-regression-for-iris-classification.ipynb\" and \"Iris_NeuralNetworkTutorial.ipynb\" respectively. You can start with these two examples before you work on the Allen's data set."
   ]
  },
  {
   "cell_type": "markdown",
   "metadata": {},
   "source": [
    "## Getting start with the Allen's data set\n",
    "Use python library Pandas to read the csv file. The data set is now stored in Pandas dataframe."
   ]
  },
  {
   "cell_type": "code",
   "execution_count": 1,
   "metadata": {
    "scrolled": true
   },
   "outputs": [
    {
     "data": {
      "text/html": [
       "<div>\n",
       "<style scoped>\n",
       "    .dataframe tbody tr th:only-of-type {\n",
       "        vertical-align: middle;\n",
       "    }\n",
       "\n",
       "    .dataframe tbody tr th {\n",
       "        vertical-align: top;\n",
       "    }\n",
       "\n",
       "    .dataframe thead th {\n",
       "        text-align: right;\n",
       "    }\n",
       "</style>\n",
       "<table border=\"1\" class=\"dataframe\">\n",
       "  <thead>\n",
       "    <tr style=\"text-align: right;\">\n",
       "      <th></th>\n",
       "      <th>adaptation</th>\n",
       "      <th>avg_isi</th>\n",
       "      <th>electrode_0_pa</th>\n",
       "      <th>f_i_curve_slope</th>\n",
       "      <th>fast_trough_t_long_square</th>\n",
       "      <th>fast_trough_t_ramp</th>\n",
       "      <th>fast_trough_t_short_square</th>\n",
       "      <th>fast_trough_v_long_square</th>\n",
       "      <th>fast_trough_v_ramp</th>\n",
       "      <th>fast_trough_v_short_square</th>\n",
       "      <th>...</th>\n",
       "      <th>trough_t_short_square</th>\n",
       "      <th>trough_v_long_square</th>\n",
       "      <th>trough_v_ramp</th>\n",
       "      <th>trough_v_short_square</th>\n",
       "      <th>upstroke_downstroke_ratio_long_square</th>\n",
       "      <th>upstroke_downstroke_ratio_ramp</th>\n",
       "      <th>upstroke_downstroke_ratio_short_square</th>\n",
       "      <th>vm_for_sag</th>\n",
       "      <th>vrest</th>\n",
       "      <th>dendrite_type</th>\n",
       "    </tr>\n",
       "  </thead>\n",
       "  <tbody>\n",
       "    <tr>\n",
       "      <th>0</th>\n",
       "      <td>NaN</td>\n",
       "      <td>134.700000</td>\n",
       "      <td>22.697498</td>\n",
       "      <td>8.335459e-02</td>\n",
       "      <td>1.187680</td>\n",
       "      <td>13.295200</td>\n",
       "      <td>1.025916</td>\n",
       "      <td>-56.375004</td>\n",
       "      <td>-57.385420</td>\n",
       "      <td>-57.431251</td>\n",
       "      <td>...</td>\n",
       "      <td>1.134780</td>\n",
       "      <td>-56.593754</td>\n",
       "      <td>-57.739586</td>\n",
       "      <td>-74.143753</td>\n",
       "      <td>3.029695</td>\n",
       "      <td>3.061646</td>\n",
       "      <td>2.969821</td>\n",
       "      <td>-80.468750</td>\n",
       "      <td>-73.553391</td>\n",
       "      <td>spiny</td>\n",
       "    </tr>\n",
       "    <tr>\n",
       "      <th>1</th>\n",
       "      <td>NaN</td>\n",
       "      <td>NaN</td>\n",
       "      <td>-24.887498</td>\n",
       "      <td>-3.913630e-19</td>\n",
       "      <td>1.099840</td>\n",
       "      <td>20.650105</td>\n",
       "      <td>1.025460</td>\n",
       "      <td>-54.000000</td>\n",
       "      <td>-54.828129</td>\n",
       "      <td>-54.656254</td>\n",
       "      <td>...</td>\n",
       "      <td>1.160940</td>\n",
       "      <td>-55.406254</td>\n",
       "      <td>-55.242191</td>\n",
       "      <td>-73.500000</td>\n",
       "      <td>2.441895</td>\n",
       "      <td>2.245653</td>\n",
       "      <td>2.231575</td>\n",
       "      <td>-84.406258</td>\n",
       "      <td>-73.056595</td>\n",
       "      <td>spiny</td>\n",
       "    </tr>\n",
       "    <tr>\n",
       "      <th>2</th>\n",
       "      <td>0.009770</td>\n",
       "      <td>39.044800</td>\n",
       "      <td>-46.765002</td>\n",
       "      <td>5.267857e-01</td>\n",
       "      <td>1.157840</td>\n",
       "      <td>2.551310</td>\n",
       "      <td>1.025387</td>\n",
       "      <td>-59.500000</td>\n",
       "      <td>-58.234378</td>\n",
       "      <td>-59.940975</td>\n",
       "      <td>...</td>\n",
       "      <td>1.089851</td>\n",
       "      <td>-60.062500</td>\n",
       "      <td>-58.570314</td>\n",
       "      <td>-61.371531</td>\n",
       "      <td>2.023762</td>\n",
       "      <td>2.162878</td>\n",
       "      <td>2.006406</td>\n",
       "      <td>-93.375008</td>\n",
       "      <td>-60.277321</td>\n",
       "      <td>aspiny</td>\n",
       "    </tr>\n",
       "    <tr>\n",
       "      <th>3</th>\n",
       "      <td>-0.007898</td>\n",
       "      <td>117.816429</td>\n",
       "      <td>5.996250</td>\n",
       "      <td>1.542553e-01</td>\n",
       "      <td>1.989165</td>\n",
       "      <td>9.572025</td>\n",
       "      <td>1.028733</td>\n",
       "      <td>-47.531250</td>\n",
       "      <td>-50.359375</td>\n",
       "      <td>-65.500000</td>\n",
       "      <td>...</td>\n",
       "      <td>1.423229</td>\n",
       "      <td>-49.406254</td>\n",
       "      <td>-52.718752</td>\n",
       "      <td>-75.273443</td>\n",
       "      <td>3.105931</td>\n",
       "      <td>3.491663</td>\n",
       "      <td>1.733896</td>\n",
       "      <td>-87.656250</td>\n",
       "      <td>-75.205559</td>\n",
       "      <td>aspiny</td>\n",
       "    </tr>\n",
       "    <tr>\n",
       "      <th>4</th>\n",
       "      <td>0.022842</td>\n",
       "      <td>68.321429</td>\n",
       "      <td>14.910000</td>\n",
       "      <td>1.714041e-01</td>\n",
       "      <td>1.081980</td>\n",
       "      <td>2.462880</td>\n",
       "      <td>1.025620</td>\n",
       "      <td>-48.437504</td>\n",
       "      <td>-46.520837</td>\n",
       "      <td>-51.406253</td>\n",
       "      <td>...</td>\n",
       "      <td>1.479690</td>\n",
       "      <td>-53.000004</td>\n",
       "      <td>-54.645837</td>\n",
       "      <td>-64.250003</td>\n",
       "      <td>3.285760</td>\n",
       "      <td>3.363504</td>\n",
       "      <td>4.234701</td>\n",
       "      <td>-81.625008</td>\n",
       "      <td>-63.474991</td>\n",
       "      <td>spiny</td>\n",
       "    </tr>\n",
       "    <tr>\n",
       "      <th>...</th>\n",
       "      <td>...</td>\n",
       "      <td>...</td>\n",
       "      <td>...</td>\n",
       "      <td>...</td>\n",
       "      <td>...</td>\n",
       "      <td>...</td>\n",
       "      <td>...</td>\n",
       "      <td>...</td>\n",
       "      <td>...</td>\n",
       "      <td>...</td>\n",
       "      <td>...</td>\n",
       "      <td>...</td>\n",
       "      <td>...</td>\n",
       "      <td>...</td>\n",
       "      <td>...</td>\n",
       "      <td>...</td>\n",
       "      <td>...</td>\n",
       "      <td>...</td>\n",
       "      <td>...</td>\n",
       "      <td>...</td>\n",
       "      <td>...</td>\n",
       "    </tr>\n",
       "    <tr>\n",
       "      <th>2328</th>\n",
       "      <td>0.001963</td>\n",
       "      <td>9.182407</td>\n",
       "      <td>-1.750000</td>\n",
       "      <td>1.013889e+00</td>\n",
       "      <td>1.030300</td>\n",
       "      <td>12.216160</td>\n",
       "      <td>1.024077</td>\n",
       "      <td>-58.781250</td>\n",
       "      <td>-56.218753</td>\n",
       "      <td>-62.375003</td>\n",
       "      <td>...</td>\n",
       "      <td>1.255667</td>\n",
       "      <td>-58.937500</td>\n",
       "      <td>-56.322920</td>\n",
       "      <td>-78.666672</td>\n",
       "      <td>1.477299</td>\n",
       "      <td>1.234940</td>\n",
       "      <td>1.447535</td>\n",
       "      <td>-88.937508</td>\n",
       "      <td>-78.321983</td>\n",
       "      <td>aspiny</td>\n",
       "    </tr>\n",
       "    <tr>\n",
       "      <th>2329</th>\n",
       "      <td>0.064670</td>\n",
       "      <td>102.640000</td>\n",
       "      <td>25.802499</td>\n",
       "      <td>1.585265e-01</td>\n",
       "      <td>1.273960</td>\n",
       "      <td>2.804420</td>\n",
       "      <td>1.025750</td>\n",
       "      <td>-49.187504</td>\n",
       "      <td>-49.062500</td>\n",
       "      <td>-50.593752</td>\n",
       "      <td>...</td>\n",
       "      <td>1.979330</td>\n",
       "      <td>-61.281254</td>\n",
       "      <td>-59.187500</td>\n",
       "      <td>-74.328125</td>\n",
       "      <td>3.919119</td>\n",
       "      <td>4.053287</td>\n",
       "      <td>4.134621</td>\n",
       "      <td>-96.250008</td>\n",
       "      <td>-74.360977</td>\n",
       "      <td>spiny</td>\n",
       "    </tr>\n",
       "    <tr>\n",
       "      <th>2330</th>\n",
       "      <td>0.239796</td>\n",
       "      <td>27.853333</td>\n",
       "      <td>-2.267500</td>\n",
       "      <td>7.307692e-02</td>\n",
       "      <td>1.095120</td>\n",
       "      <td>2.426287</td>\n",
       "      <td>1.025020</td>\n",
       "      <td>-51.531250</td>\n",
       "      <td>-50.437501</td>\n",
       "      <td>-52.481252</td>\n",
       "      <td>...</td>\n",
       "      <td>1.633196</td>\n",
       "      <td>-51.593750</td>\n",
       "      <td>-50.510418</td>\n",
       "      <td>-70.618750</td>\n",
       "      <td>2.646425</td>\n",
       "      <td>2.688956</td>\n",
       "      <td>2.838209</td>\n",
       "      <td>-95.000008</td>\n",
       "      <td>-70.443848</td>\n",
       "      <td>sparsely spiny</td>\n",
       "    </tr>\n",
       "    <tr>\n",
       "      <th>2331</th>\n",
       "      <td>0.066685</td>\n",
       "      <td>119.322857</td>\n",
       "      <td>-15.087501</td>\n",
       "      <td>1.131737e-01</td>\n",
       "      <td>1.318820</td>\n",
       "      <td>3.928953</td>\n",
       "      <td>1.024840</td>\n",
       "      <td>-52.406250</td>\n",
       "      <td>-54.854169</td>\n",
       "      <td>-52.268752</td>\n",
       "      <td>...</td>\n",
       "      <td>1.888704</td>\n",
       "      <td>-52.406250</td>\n",
       "      <td>-54.937503</td>\n",
       "      <td>-75.993753</td>\n",
       "      <td>3.560123</td>\n",
       "      <td>3.500551</td>\n",
       "      <td>3.714190</td>\n",
       "      <td>-98.593758</td>\n",
       "      <td>-79.264778</td>\n",
       "      <td>spiny</td>\n",
       "    </tr>\n",
       "    <tr>\n",
       "      <th>2332</th>\n",
       "      <td>0.009442</td>\n",
       "      <td>29.113030</td>\n",
       "      <td>-70.689371</td>\n",
       "      <td>5.978263e-03</td>\n",
       "      <td>1.066930</td>\n",
       "      <td>1.772655</td>\n",
       "      <td>1.024946</td>\n",
       "      <td>-55.281250</td>\n",
       "      <td>-53.781251</td>\n",
       "      <td>-57.975001</td>\n",
       "      <td>...</td>\n",
       "      <td>1.559341</td>\n",
       "      <td>-55.500000</td>\n",
       "      <td>-54.083333</td>\n",
       "      <td>-60.843751</td>\n",
       "      <td>1.662838</td>\n",
       "      <td>1.573201</td>\n",
       "      <td>1.636446</td>\n",
       "      <td>-94.468750</td>\n",
       "      <td>-58.389572</td>\n",
       "      <td>aspiny</td>\n",
       "    </tr>\n",
       "  </tbody>\n",
       "</table>\n",
       "<p>2333 rows × 57 columns</p>\n",
       "</div>"
      ],
      "text/plain": [
       "      adaptation     avg_isi  electrode_0_pa  f_i_curve_slope  \\\n",
       "0            NaN  134.700000       22.697498     8.335459e-02   \n",
       "1            NaN         NaN      -24.887498    -3.913630e-19   \n",
       "2       0.009770   39.044800      -46.765002     5.267857e-01   \n",
       "3      -0.007898  117.816429        5.996250     1.542553e-01   \n",
       "4       0.022842   68.321429       14.910000     1.714041e-01   \n",
       "...          ...         ...             ...              ...   \n",
       "2328    0.001963    9.182407       -1.750000     1.013889e+00   \n",
       "2329    0.064670  102.640000       25.802499     1.585265e-01   \n",
       "2330    0.239796   27.853333       -2.267500     7.307692e-02   \n",
       "2331    0.066685  119.322857      -15.087501     1.131737e-01   \n",
       "2332    0.009442   29.113030      -70.689371     5.978263e-03   \n",
       "\n",
       "      fast_trough_t_long_square  fast_trough_t_ramp  \\\n",
       "0                      1.187680           13.295200   \n",
       "1                      1.099840           20.650105   \n",
       "2                      1.157840            2.551310   \n",
       "3                      1.989165            9.572025   \n",
       "4                      1.081980            2.462880   \n",
       "...                         ...                 ...   \n",
       "2328                   1.030300           12.216160   \n",
       "2329                   1.273960            2.804420   \n",
       "2330                   1.095120            2.426287   \n",
       "2331                   1.318820            3.928953   \n",
       "2332                   1.066930            1.772655   \n",
       "\n",
       "      fast_trough_t_short_square  fast_trough_v_long_square  \\\n",
       "0                       1.025916                 -56.375004   \n",
       "1                       1.025460                 -54.000000   \n",
       "2                       1.025387                 -59.500000   \n",
       "3                       1.028733                 -47.531250   \n",
       "4                       1.025620                 -48.437504   \n",
       "...                          ...                        ...   \n",
       "2328                    1.024077                 -58.781250   \n",
       "2329                    1.025750                 -49.187504   \n",
       "2330                    1.025020                 -51.531250   \n",
       "2331                    1.024840                 -52.406250   \n",
       "2332                    1.024946                 -55.281250   \n",
       "\n",
       "      fast_trough_v_ramp  fast_trough_v_short_square  ...  \\\n",
       "0             -57.385420                  -57.431251  ...   \n",
       "1             -54.828129                  -54.656254  ...   \n",
       "2             -58.234378                  -59.940975  ...   \n",
       "3             -50.359375                  -65.500000  ...   \n",
       "4             -46.520837                  -51.406253  ...   \n",
       "...                  ...                         ...  ...   \n",
       "2328          -56.218753                  -62.375003  ...   \n",
       "2329          -49.062500                  -50.593752  ...   \n",
       "2330          -50.437501                  -52.481252  ...   \n",
       "2331          -54.854169                  -52.268752  ...   \n",
       "2332          -53.781251                  -57.975001  ...   \n",
       "\n",
       "      trough_t_short_square  trough_v_long_square  trough_v_ramp  \\\n",
       "0                  1.134780            -56.593754     -57.739586   \n",
       "1                  1.160940            -55.406254     -55.242191   \n",
       "2                  1.089851            -60.062500     -58.570314   \n",
       "3                  1.423229            -49.406254     -52.718752   \n",
       "4                  1.479690            -53.000004     -54.645837   \n",
       "...                     ...                   ...            ...   \n",
       "2328               1.255667            -58.937500     -56.322920   \n",
       "2329               1.979330            -61.281254     -59.187500   \n",
       "2330               1.633196            -51.593750     -50.510418   \n",
       "2331               1.888704            -52.406250     -54.937503   \n",
       "2332               1.559341            -55.500000     -54.083333   \n",
       "\n",
       "      trough_v_short_square  upstroke_downstroke_ratio_long_square  \\\n",
       "0                -74.143753                               3.029695   \n",
       "1                -73.500000                               2.441895   \n",
       "2                -61.371531                               2.023762   \n",
       "3                -75.273443                               3.105931   \n",
       "4                -64.250003                               3.285760   \n",
       "...                     ...                                    ...   \n",
       "2328             -78.666672                               1.477299   \n",
       "2329             -74.328125                               3.919119   \n",
       "2330             -70.618750                               2.646425   \n",
       "2331             -75.993753                               3.560123   \n",
       "2332             -60.843751                               1.662838   \n",
       "\n",
       "      upstroke_downstroke_ratio_ramp  upstroke_downstroke_ratio_short_square  \\\n",
       "0                           3.061646                                2.969821   \n",
       "1                           2.245653                                2.231575   \n",
       "2                           2.162878                                2.006406   \n",
       "3                           3.491663                                1.733896   \n",
       "4                           3.363504                                4.234701   \n",
       "...                              ...                                     ...   \n",
       "2328                        1.234940                                1.447535   \n",
       "2329                        4.053287                                4.134621   \n",
       "2330                        2.688956                                2.838209   \n",
       "2331                        3.500551                                3.714190   \n",
       "2332                        1.573201                                1.636446   \n",
       "\n",
       "      vm_for_sag      vrest   dendrite_type  \n",
       "0     -80.468750 -73.553391           spiny  \n",
       "1     -84.406258 -73.056595           spiny  \n",
       "2     -93.375008 -60.277321          aspiny  \n",
       "3     -87.656250 -75.205559          aspiny  \n",
       "4     -81.625008 -63.474991           spiny  \n",
       "...          ...        ...             ...  \n",
       "2328  -88.937508 -78.321983          aspiny  \n",
       "2329  -96.250008 -74.360977           spiny  \n",
       "2330  -95.000008 -70.443848  sparsely spiny  \n",
       "2331  -98.593758 -79.264778           spiny  \n",
       "2332  -94.468750 -58.389572          aspiny  \n",
       "\n",
       "[2333 rows x 57 columns]"
      ]
     },
     "execution_count": 1,
     "metadata": {},
     "output_type": "execute_result"
    }
   ],
   "source": [
    "import numpy as np\n",
    "import pandas as pd\n",
    "\n",
    "df = pd.read_csv(\"ElecPhyFeatures.csv\",index_col=0)\n",
    "df"
   ]
  },
  {
   "cell_type": "markdown",
   "metadata": {},
   "source": [
    "Find the features with no missing data. You will choose any combination of features you want (avoid using those 'features' that are actually IDs) as input to the classifier. You will get bonus points if you figure out which features are most useful in distinguishing the cell type."
   ]
  },
  {
   "cell_type": "code",
   "execution_count": 2,
   "metadata": {},
   "outputs": [
    {
     "data": {
      "text/plain": [
       "Index(['f_i_curve_slope', 'fast_trough_t_long_square',\n",
       "       'fast_trough_t_short_square', 'fast_trough_v_long_square',\n",
       "       'fast_trough_v_short_square', 'has_burst', 'has_delay', 'has_pause',\n",
       "       'id', 'input_resistance_mohm', 'latency', 'peak_t_long_square',\n",
       "       'peak_t_short_square', 'peak_v_long_square', 'peak_v_short_square',\n",
       "       'rheobase_sweep_id', 'rheobase_sweep_number', 'ri', 'sag', 'seal_gohm',\n",
       "       'specimen_id', 'tau', 'threshold_i_long_square',\n",
       "       'threshold_i_short_square', 'threshold_t_long_square',\n",
       "       'threshold_t_short_square', 'threshold_v_long_square',\n",
       "       'threshold_v_short_square', 'thumbnail_sweep_id',\n",
       "       'trough_t_long_square', 'trough_t_short_square', 'trough_v_long_square',\n",
       "       'trough_v_short_square', 'upstroke_downstroke_ratio_long_square',\n",
       "       'upstroke_downstroke_ratio_short_square', 'vm_for_sag', 'vrest'],\n",
       "      dtype='object')"
      ]
     },
     "execution_count": 2,
     "metadata": {},
     "output_type": "execute_result"
    }
   ],
   "source": [
    "idx_no_nan = np.nonzero([~np.isnan(df[features].values).any() for features in df.columns[:-1]])[0]\n",
    "# features that have no missing data which you can choose from\n",
    "df.columns[idx_no_nan]"
   ]
  },
  {
   "cell_type": "markdown",
   "metadata": {},
   "source": [
    "The cell type is determined by the dendrite type in the last column of the data set. There is a minority type called \"sparsely spiny\". You can do either a 3-class classification or a binary classification excluding the \"sparsely spiny\"."
   ]
  },
  {
   "cell_type": "code",
   "execution_count": 3,
   "metadata": {},
   "outputs": [],
   "source": [
    "%matplotlib inline\n",
    "import matplotlib\n",
    "import matplotlib.pyplot as plt\n",
    "\n",
    "sel_feature = ['f_i_curve_slope','vrest'] # Select features\n",
    "X = df[sel_feature].values\n",
    "Y = df['dendrite_type'].values\n",
    "y = np.where(Y=='spiny',1,0)\n",
    "y[np.nonzero(Y=='sparsely spiny')[0]] = 2"
   ]
  },
  {
   "cell_type": "markdown",
   "metadata": {},
   "source": [
    "Plot classes based on the two features selected. As you can see, the classes are more seperable under the feature \"f_i_curve_slope\" rather then \"Vrest\"."
   ]
  },
  {
   "cell_type": "code",
   "execution_count": 4,
   "metadata": {},
   "outputs": [
    {
     "data": {
      "image/png": "[encoded data removed]",
      "text/plain": [
       "<Figure size 432x288 with 1 Axes>"
      ]
     },
     "metadata": {
      "needs_background": "light"
     },
     "output_type": "display_data"
    }
   ],
   "source": [
    "plt.figure(1, figsize=(6,4))\n",
    "plt.plot(X[:,0][y==0], X[:, 1][y==0], \"b.\", label=\"aspiny\")\n",
    "plt.plot(X[:,0][y==1], X[:, 1][y==1], \"r.\", label=\"spiny\")\n",
    "plt.plot(X[:,0][y==2], X[:, 1][y==2], \"g.\", label=\"sparsely spiny\")\n",
    "plt.xlabel(sel_feature[0], fontsize=14)\n",
    "plt.ylabel(sel_feature[1], fontsize=14)\n",
    "plt.legend(loc=\"best\", fontsize=14)\n",
    "plt.show()"
   ]
  },
  {
   "cell_type": "markdown",
   "metadata": {},
   "source": [
    "### Now you have defined the training data set and the class labels. Next train the logistic regression classifier and the neural network like in the two examples and compare the performance of these two methods."
   ]
  },
  {
   "cell_type": "code",
   "execution_count": 32,
   "metadata": {},
   "outputs": [
    {
     "name": "stdout",
     "output_type": "stream",
     "text": [
      "(2213, 37)\n",
      "(2213, 2)\n"
     ]
    }
   ],
   "source": [
    "# let's first try to select features in a principled manner\n",
    "# targeting the spiny/aspiny classification\n",
    "all_features_df = df[df.columns[idx_no_nan]]\n",
    "all_X = all_features_df.values\n",
    "binary_y = y[y != 2]\n",
    "binary_X = all_X[y != 2]\n",
    "print(binary_X.shape)\n",
    "original_features_X = X[y != 2]\n",
    "print(original_features_X.shape)"
   ]
  },
  {
   "cell_type": "markdown",
   "metadata": {},
   "source": [
    "Let's select the 4 features with the most mutual information with the target variable"
   ]
  },
  {
   "cell_type": "code",
   "execution_count": 22,
   "metadata": {},
   "outputs": [
    {
     "data": {
      "text/plain": [
       "(2213, 5)"
      ]
     },
     "execution_count": 22,
     "metadata": {},
     "output_type": "execute_result"
    }
   ],
   "source": [
    "from sklearn.feature_selection import SelectKBest\n",
    "from sklearn.feature_selection import mutual_info_classif\n",
    "feature_selector = SelectKBest(mutual_info_classif, k=5)\n",
    "X_new = feature_selector.fit_transform(binary_X, binary_y)\n",
    "X_new.shape"
   ]
  },
  {
   "cell_type": "markdown",
   "metadata": {},
   "source": [
    "### specimen_id?\n",
    "\n",
    "it's strange to me that specimen_id is correlated with the outcome, let's look..."
   ]
  },
  {
   "cell_type": "code",
   "execution_count": 36,
   "metadata": {},
   "outputs": [
    {
     "data": {
      "text/plain": [
       "<matplotlib.collections.PathCollection at 0x123f0aa10>"
      ]
     },
     "execution_count": 36,
     "metadata": {},
     "output_type": "execute_result"
    },
    {
     "data": {
      "image/png": "[encoded data removed]",
      "text/plain": [
       "<Figure size 432x288 with 1 Axes>"
      ]
     },
     "metadata": {
      "needs_background": "light"
     },
     "output_type": "display_data"
    }
   ],
   "source": [
    "plt.scatter(all_features_df['specimen_id'].values[y != 2], binary_y)\n"
   ]
  },
  {
   "cell_type": "markdown",
   "metadata": {},
   "source": [
    "interestingly, there are indeed blocks where the specimen Id is ONLY for the spiny class in that range.  I think we'll just cut that feature out.  it's just bias in what order the samples were documented in."
   ]
  },
  {
   "cell_type": "code",
   "execution_count": 44,
   "metadata": {},
   "outputs": [
    {
     "name": "stdout",
     "output_type": "stream",
     "text": [
      "(2213, 4)\n",
      "(2213,)\n"
     ]
    }
   ],
   "source": [
    "support_cols = all_features_df.columns[feature_selector.get_support()]\n",
    "selected_binary_X = all_features_df[support_cols[support_cols != 'specimen_id']].values[y != 2]\n",
    "print(selected_binary_X.shape)\n",
    "print(binary_y.shape)"
   ]
  },
  {
   "cell_type": "markdown",
   "metadata": {},
   "source": [
    "## Logistic regression\n",
    "\n",
    "Here we'll train a model both on the proposed 2 features from the problem and from the 4 features selected by mutual information"
   ]
  },
  {
   "cell_type": "code",
   "execution_count": 55,
   "metadata": {},
   "outputs": [
    {
     "data": {
      "text/plain": [
       "array([[163,  39],\n",
       "       [ 20, 221]])"
      ]
     },
     "execution_count": 55,
     "metadata": {},
     "output_type": "execute_result"
    }
   ],
   "source": [
    "# 4 BEST FEATURES\n",
    "from sklearn import preprocessing\n",
    "from sklearn.metrics import confusion_matrix\n",
    "from sklearn.model_selection import train_test_split\n",
    "from sklearn.linear_model import LogisticRegression\n",
    "reg = LogisticRegression(solver='lbfgs')\n",
    "X_train, X_test, y_train, y_test = train_test_split(selected_binary_X, binary_y, test_size=0.2, random_state=1986)\n",
    "scaler = preprocessing.StandardScaler().fit(X_train)\n",
    "X_train_transformed = scaler.transform(X_train)\n",
    "X_test_transformed = scaler.transform(X_test)\n",
    "reg.fit(X_train_transformed, y_train)\n",
    "y_hat = reg.predict(X_test_transformed)\n",
    "confusion_matrix(y_test, y_hat)"
   ]
  },
  {
   "cell_type": "code",
   "execution_count": 56,
   "metadata": {},
   "outputs": [
    {
     "data": {
      "text/plain": [
       "array([[125,  77],\n",
       "       [ 26, 215]])"
      ]
     },
     "execution_count": 56,
     "metadata": {},
     "output_type": "execute_result"
    }
   ],
   "source": [
    "# 2 ORIGINALLY PROPOSED FEATURES\n",
    "from sklearn import preprocessing\n",
    "from sklearn.metrics import confusion_matrix\n",
    "from sklearn.model_selection import train_test_split\n",
    "from sklearn.linear_model import LogisticRegression\n",
    "reg = LogisticRegression(solver='lbfgs')\n",
    "X_train, X_test, y_train, y_test = train_test_split(original_features_X, binary_y, test_size=0.2, random_state=1986)\n",
    "scaler = preprocessing.StandardScaler().fit(X_train)\n",
    "X_train_transformed = scaler.transform(X_train)\n",
    "X_test_transformed = scaler.transform(X_test)\n",
    "reg.fit(X_train_transformed, y_train)\n",
    "y_hat = reg.predict(X_test_transformed)\n",
    "confusion_matrix(y_test, y_hat)"
   ]
  },
  {
   "cell_type": "markdown",
   "metadata": {},
   "source": [
    "we can see above that the 4 best features produces a superior confusion matrix to the 2 proposed features "
   ]
  },
  {
   "cell_type": "markdown",
   "metadata": {},
   "source": [
    "## Let's try the same thing with a neural network"
   ]
  },
  {
   "cell_type": "code",
   "execution_count": 58,
   "metadata": {},
   "outputs": [
    {
     "data": {
      "text/plain": [
       "array([[173,  29],\n",
       "       [ 16, 225]])"
      ]
     },
     "execution_count": 58,
     "metadata": {},
     "output_type": "execute_result"
    }
   ],
   "source": [
    "from sklearn import preprocessing\n",
    "from sklearn.metrics import confusion_matrix\n",
    "from sklearn.model_selection import train_test_split\n",
    "from sklearn.neural_network import MLPClassifier\n",
    "reg = MLPClassifier(max_iter=400)\n",
    "X_train, X_test, y_train, y_test = train_test_split(selected_binary_X, binary_y, test_size=0.2, random_state=1986)\n",
    "scaler = preprocessing.StandardScaler().fit(X_train)\n",
    "X_train_transformed = scaler.transform(X_train)\n",
    "X_test_transformed = scaler.transform(X_test)\n",
    "reg.fit(X_train_transformed, y_train)\n",
    "y_hat = reg.predict(X_test_transformed)\n",
    "confusion_matrix(y_test, y_hat)"
   ]
  },
  {
   "cell_type": "code",
   "execution_count": 59,
   "metadata": {},
   "outputs": [
    {
     "data": {
      "text/plain": [
       "array([[125,  77],\n",
       "       [ 15, 226]])"
      ]
     },
     "execution_count": 59,
     "metadata": {},
     "output_type": "execute_result"
    }
   ],
   "source": [
    "from sklearn import preprocessing\n",
    "from sklearn.metrics import confusion_matrix\n",
    "from sklearn.model_selection import train_test_split\n",
    "from sklearn.neural_network import MLPClassifier\n",
    "reg = MLPClassifier(max_iter=400)\n",
    "X_train, X_test, y_train, y_test = train_test_split(original_features_X, binary_y, test_size=0.2, random_state=1986)\n",
    "scaler = preprocessing.StandardScaler().fit(X_train)\n",
    "X_train_transformed = scaler.transform(X_train)\n",
    "X_test_transformed = scaler.transform(X_test)\n",
    "reg.fit(X_train_transformed, y_train)\n",
    "y_hat = reg.predict(X_test_transformed)\n",
    "confusion_matrix(y_test, y_hat)"
   ]
  },
  {
   "cell_type": "markdown",
   "metadata": {},
   "source": [
    "Again the confusion matrix for the 4-feature version has many more true positives (but this time one fewer true negative)"
   ]
  },
  {
   "cell_type": "code",
   "execution_count": null,
   "metadata": {},
   "outputs": [],
   "source": []
  }
 ],
 "metadata": {
  "kernelspec": {
   "display_name": "Python 3",
   "language": "python",
   "name": "python3"
  },
  "language_info": {
   "codemirror_mode": {
    "name": "ipython",
    "version": 3
   },
   "file_extension": ".py",
   "mimetype": "text/x-python",
   "name": "python",
   "nbconvert_exporter": "python",
   "pygments_lexer": "ipython3",
   "version": "3.7.6"
  }
 },
 "nbformat": 4,
 "nbformat_minor": 2
}
